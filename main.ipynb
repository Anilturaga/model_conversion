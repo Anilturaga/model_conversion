{
 "cells": [
  {
   "cell_type": "code",
   "execution_count": 2,
   "metadata": {},
   "outputs": [],
   "source": [
    "# trace\n",
    "# Converting to Torch Script via Tracing\n",
    "import torch\n",
    "import torchvision\n",
    "\n",
    "# An instance of your model.\n",
    "model = torchvision.models.resnet18()\n",
    "\n",
    "# An example input you would normally provide to your model's forward() method.\n",
    "example = torch.rand(1, 3, 224, 224)\n",
    "\n",
    "# Use torch.jit.trace to generate a torch.jit.ScriptModule via tracing.\n",
    "traced_script_module = torch.jit.trace(model, example)"
   ]
  },
  {
   "cell_type": "code",
   "execution_count": 3,
   "metadata": {},
   "outputs": [
    {
     "data": {
      "text/plain": [
       "(tensor([ 0.7798, -0.3657,  0.2504,  0.4290, -0.2558], grad_fn=<SliceBackward0>),\n",
       " tensor([ 0.7798, -0.3657,  0.2504,  0.4290, -0.2558], grad_fn=<SliceBackward0>))"
      ]
     },
     "execution_count": 3,
     "metadata": {},
     "output_type": "execute_result"
    }
   ],
   "source": [
    "# trace 1\n",
    "output = traced_script_module(torch.ones(1, 3, 224, 224))\n",
    "output1 = model(torch.ones(1, 3, 224, 224))\n",
    "\n",
    "output[0, :5],output1[0, :5]"
   ]
  },
  {
   "cell_type": "code",
   "execution_count": 4,
   "metadata": {},
   "outputs": [
    {
     "name": "stdout",
     "output_type": "stream",
     "text": [
      "('def forward(self,\\n'\n",
      " '    x: Tensor) -> Tensor:\\n'\n",
      " '  fc = self.fc\\n'\n",
      " '  avgpool = self.avgpool\\n'\n",
      " '  layer4 = self.layer4\\n'\n",
      " '  layer3 = self.layer3\\n'\n",
      " '  layer2 = self.layer2\\n'\n",
      " '  layer1 = self.layer1\\n'\n",
      " '  maxpool = self.maxpool\\n'\n",
      " '  relu = self.relu\\n'\n",
      " '  bn1 = self.bn1\\n'\n",
      " '  conv1 = self.conv1\\n'\n",
      " '  _0 = (relu).forward((bn1).forward((conv1).forward(x, ), ), )\\n'\n",
      " '  _1 = (layer1).forward((maxpool).forward(_0, ), )\\n'\n",
      " '  _2 = (layer3).forward((layer2).forward(_1, ), )\\n'\n",
      " '  _3 = (avgpool).forward((layer4).forward(_2, ), )\\n'\n",
      " '  input = torch.flatten(_3, 1)\\n'\n",
      " '  return (fc).forward(input, )\\n')\n"
     ]
    }
   ],
   "source": [
    "# .code\n",
    "import pprint\n",
    "pp = pprint.PrettyPrinter(indent=4)\n",
    "pp.pprint(traced_script_module.code)"
   ]
  },
  {
   "cell_type": "code",
   "execution_count": null,
   "metadata": {},
   "outputs": [],
   "source": [
    "\n",
    "#annotation\n",
    "# Converting to Torch Script via Annotation\n",
    "class MyModule(torch.nn.Module):\n",
    "    def __init__(self, N, M):\n",
    "        super(MyModule, self).__init__()\n",
    "        self.weight = torch.nn.Parameter(torch.rand(N, M))\n",
    "\n",
    "    def forward(self, input):\n",
    "        if input.sum() > 0:\n",
    "          output = self.weight.mv(input)\n",
    "        else:\n",
    "          output = self.weight + input\n",
    "        return output\n",
    "\n",
    "my_module = MyModule(10,20)\n",
    "sm = torch.jit.script(my_module)"
   ]
  },
  {
   "cell_type": "code",
   "execution_count": null,
   "metadata": {},
   "outputs": [],
   "source": [
    "#file\n",
    "# Serializing Your Script Module to a File\n",
    "traced_script_module.save(\"traced_resnet_model.pt\")"
   ]
  }
 ],
 "metadata": {
  "interpreter": {
   "hash": "949777d72b0d2535278d3dc13498b2535136f6dfe0678499012e853ee9abcab1"
  },
  "kernelspec": {
   "display_name": "Python 3.6.15 64-bit",
   "language": "python",
   "name": "python3"
  },
  "language_info": {
   "codemirror_mode": {
    "name": "ipython",
    "version": 3
   },
   "file_extension": ".py",
   "mimetype": "text/x-python",
   "name": "python",
   "nbconvert_exporter": "python",
   "pygments_lexer": "ipython3",
   "version": "3.6.15"
  },
  "orig_nbformat": 4
 },
 "nbformat": 4,
 "nbformat_minor": 2
}
